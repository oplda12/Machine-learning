{
 "cells": [
  {
   "cell_type": "code",
   "execution_count": 1,
   "metadata": {},
   "outputs": [],
   "source": [
    "import numpy as np\n",
    "from sklearn import preprocessing\n",
    "import matplotlib.pyplot as plt\n"
   ]
  },
  {
   "cell_type": "code",
   "execution_count": 2,
   "metadata": {},
   "outputs": [],
   "source": [
    "def cost(X, Y, m):\n",
    "    totalCost = 0\n",
    "    N = len(X[:, 0])\n",
    "    for i in range(N):\n",
    "        totalCost += (Y[i] - (m*X[i]).sum())**2\n",
    "        \n",
    "    return totalCost/N"
   ]
  },
  {
   "cell_type": "code",
   "execution_count": 3,
   "metadata": {},
   "outputs": [],
   "source": [
    "def stepGradient(x_train, y_train,alpha,m):\n",
    "    m_slopes = np.zeros(len(m))\n",
    "    N = x_train.shape[0]\n",
    "    M = x_train.shape[1]\n",
    "    \n",
    "    #print(x_train[0])\n",
    "    for i in range(N):\n",
    "        for j in range(M):\n",
    "            m_slopes[j] += (-2/N)*(y_train[i] - (m*x_train[i]).sum())*x_train[i][j]\n",
    "    m = m - alpha*m_slopes\n",
    "    return m"
   ]
  },
  {
   "cell_type": "code",
   "execution_count": 4,
   "metadata": {},
   "outputs": [],
   "source": [
    "def gradientDescent(X, Y, learningRate, n):\n",
    "    m = np.zeros(len(X[0]))\n",
    "    cst = []\n",
    "    itr = []\n",
    "    for i in range(n):\n",
    "        m = stepGradient(X, Y, learningRate, m)\n",
    "        c = cost(X, Y, m)\n",
    "        cst.append(c)\n",
    "        itr.append(i + 1)\n",
    "        print(\"Cost \", i + 1, \":\", c)\n",
    "        \n",
    "    return m, cst, itr"
   ]
  },
  {
   "cell_type": "code",
   "execution_count": 5,
   "metadata": {},
   "outputs": [],
   "source": [
    "def predict(X, m):\n",
    "    N = len(X[:, 0])\n",
    "    print(N)\n",
    "    Y = np.zeros(N)\n",
    "    for i in range(N):\n",
    "        Y[i] = (X[i] * m).sum()\n",
    "        \n",
    "    return Y"
   ]
  },
  {
   "cell_type": "code",
   "execution_count": null,
   "metadata": {},
   "outputs": [],
   "source": [
    "\n",
    "print(data.shape)\n",
    "train = data.copy()\n",
    "X = train[:,:-1]\n",
    "Y = train[:,-1:]\n",
    "\n",
    "print(X.shape)\n",
    "#print(data[0])\n",
    "#print(X[0])\n",
    "#print(Y[0])"
   ]
  },
  {
   "cell_type": "code",
   "execution_count": null,
   "metadata": {},
   "outputs": [],
   "source": [
    "scaler = preprocessing.StandardScaler()\n",
    "# scaler.fit(X)\n",
    "# X_scaled = scaler.transform(X)\n",
    "#print(X_scaled.mean(axis = 0))\n",
    "\n",
    "\n",
    "Z = np.ones((len(X[:, 0]), len(X[0]) + 1))\n",
    "Z[:,:-1] = X\n",
    "X_scaled = Z\n",
    "\n",
    "#print(X_scaled.shape)\n",
    "#print(Z[0])\n",
    "#print(X_scaled[0])"
   ]
  },
  {
   "cell_type": "code",
   "execution_count": null,
   "metadata": {},
   "outputs": [],
   "source": [
    "n = 100\n",
    "learningRate = 0.13\n",
    "m, cst, itr = gradientDescent(X_scaled, Y, learningRate, n)\n",
    "print(m)"
   ]
  },
  {
   "cell_type": "code",
   "execution_count": null,
   "metadata": {},
   "outputs": [],
   "source": [
    "plt.plot(cst, itr)\n",
    "plt.show()"
   ]
  },
  {
   "cell_type": "code",
   "execution_count": null,
   "metadata": {},
   "outputs": [],
   "source": [
    "N = len(X[:, 0])\n",
    "M = len(X[0])\n",
    "N, M"
   ]
  },
  {
   "cell_type": "code",
   "execution_count": null,
   "metadata": {},
   "outputs": [],
   "source": [
    "Y_train = predict(X_scaled, m)\n",
    "print(Y_train.shape)\n",
    "print(Y.shape)\n",
    "plt.scatter(Y, Y_train)\n",
    "plt.show()"
   ]
  },
  {
   "cell_type": "code",
   "execution_count": null,
   "metadata": {},
   "outputs": [],
   "source": [
    "X_test = np.loadtxt(\"/Users/abhi99/Downloads/0000000000002417_test_boston_x_test.csv\", delimiter = ',')\n",
    "scaler.fit(X_test)\n",
    "X_test = scaler.transform(X_test)\n",
    "\n",
    "Z = np.ones((len(X_test[:, 0]), len(X_test[0]) + 1))\n",
    "Z[:,:-1] = X_test\n",
    "X_test = Z"
   ]
  },
  {
   "cell_type": "code",
   "execution_count": null,
   "metadata": {},
   "outputs": [],
   "source": [
    "Y_test = predict(X_test, m)\n",
    "np.savetxt(\"boston_ypredictfinal.csv\", Y_test)"
   ]
  },
  {
   "cell_type": "code",
   "execution_count": null,
   "metadata": {},
   "outputs": [],
   "source": [
    "print(Y_test)"
   ]
  },
  {
   "cell_type": "code",
   "execution_count": null,
   "metadata": {},
   "outputs": [],
   "source": [
    "print(X_test)"
   ]
  },
  {
   "cell_type": "code",
   "execution_count": null,
   "metadata": {},
   "outputs": [],
   "source": [
    "print(X_scaled)"
   ]
  }
 ],
 "metadata": {
  "kernelspec": {
   "display_name": "Python 3",
   "language": "python",
   "name": "python3"
  },
  "language_info": {
   "codemirror_mode": {
    "name": "ipython",
    "version": 3
   },
   "file_extension": ".py",
   "mimetype": "text/x-python",
   "name": "python",
   "nbconvert_exporter": "python",
   "pygments_lexer": "ipython3",
   "version": "3.8.5"
  }
 },
 "nbformat": 4,
 "nbformat_minor": 4
}
