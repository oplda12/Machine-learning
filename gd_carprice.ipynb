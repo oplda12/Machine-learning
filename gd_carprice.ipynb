{
 "cells": [
  {
   "cell_type": "code",
   "execution_count": 85,
   "metadata": {},
   "outputs": [],
   "source": [
    "import numpy as np\n",
    "import pandas as pd\n",
    "from sklearn import preprocessing\n",
    "import matplotlib.pyplot as plt\n",
    "from sklearn.model_selection import train_test_split\n",
    "from sklearn import preprocessing"
   ]
  },
  {
   "cell_type": "code",
   "execution_count": 86,
   "metadata": {},
   "outputs": [],
   "source": [
    "data = pd.read_csv(r'D:\\\\TRANSFER EVERYONE\\\\LOP@\\\\ToyotaCorolla.csv')\n"
   ]
  },
  {
   "cell_type": "code",
   "execution_count": 87,
   "metadata": {},
   "outputs": [
    {
     "data": {
      "text/html": [
       "<div>\n",
       "<style scoped>\n",
       "    .dataframe tbody tr th:only-of-type {\n",
       "        vertical-align: middle;\n",
       "    }\n",
       "\n",
       "    .dataframe tbody tr th {\n",
       "        vertical-align: top;\n",
       "    }\n",
       "\n",
       "    .dataframe thead th {\n",
       "        text-align: right;\n",
       "    }\n",
       "</style>\n",
       "<table border=\"1\" class=\"dataframe\">\n",
       "  <thead>\n",
       "    <tr style=\"text-align: right;\">\n",
       "      <th></th>\n",
       "      <th>Price</th>\n",
       "      <th>Age_08_04</th>\n",
       "      <th>KM</th>\n",
       "      <th>Met_Color</th>\n",
       "      <th>Automatic</th>\n",
       "      <th>cc</th>\n",
       "      <th>Doors</th>\n",
       "      <th>Quarterly_Tax</th>\n",
       "      <th>Weight</th>\n",
       "    </tr>\n",
       "  </thead>\n",
       "  <tbody>\n",
       "    <tr>\n",
       "      <th>0</th>\n",
       "      <td>13500</td>\n",
       "      <td>23</td>\n",
       "      <td>46986</td>\n",
       "      <td>1</td>\n",
       "      <td>0</td>\n",
       "      <td>2000</td>\n",
       "      <td>3</td>\n",
       "      <td>210</td>\n",
       "      <td>1165</td>\n",
       "    </tr>\n",
       "    <tr>\n",
       "      <th>1</th>\n",
       "      <td>13750</td>\n",
       "      <td>23</td>\n",
       "      <td>72937</td>\n",
       "      <td>1</td>\n",
       "      <td>0</td>\n",
       "      <td>2000</td>\n",
       "      <td>3</td>\n",
       "      <td>210</td>\n",
       "      <td>1165</td>\n",
       "    </tr>\n",
       "    <tr>\n",
       "      <th>2</th>\n",
       "      <td>13950</td>\n",
       "      <td>24</td>\n",
       "      <td>41711</td>\n",
       "      <td>1</td>\n",
       "      <td>0</td>\n",
       "      <td>2000</td>\n",
       "      <td>3</td>\n",
       "      <td>210</td>\n",
       "      <td>1165</td>\n",
       "    </tr>\n",
       "    <tr>\n",
       "      <th>3</th>\n",
       "      <td>14950</td>\n",
       "      <td>26</td>\n",
       "      <td>48000</td>\n",
       "      <td>0</td>\n",
       "      <td>0</td>\n",
       "      <td>2000</td>\n",
       "      <td>3</td>\n",
       "      <td>210</td>\n",
       "      <td>1165</td>\n",
       "    </tr>\n",
       "    <tr>\n",
       "      <th>4</th>\n",
       "      <td>13750</td>\n",
       "      <td>30</td>\n",
       "      <td>38500</td>\n",
       "      <td>0</td>\n",
       "      <td>0</td>\n",
       "      <td>2000</td>\n",
       "      <td>3</td>\n",
       "      <td>210</td>\n",
       "      <td>1170</td>\n",
       "    </tr>\n",
       "  </tbody>\n",
       "</table>\n",
       "</div>"
      ],
      "text/plain": [
       "   Price  Age_08_04     KM  Met_Color  Automatic    cc  Doors  Quarterly_Tax  \\\n",
       "0  13500         23  46986          1          0  2000      3            210   \n",
       "1  13750         23  72937          1          0  2000      3            210   \n",
       "2  13950         24  41711          1          0  2000      3            210   \n",
       "3  14950         26  48000          0          0  2000      3            210   \n",
       "4  13750         30  38500          0          0  2000      3            210   \n",
       "\n",
       "   Weight  \n",
       "0    1165  \n",
       "1    1165  \n",
       "2    1165  \n",
       "3    1165  \n",
       "4    1170  "
      ]
     },
     "execution_count": 87,
     "metadata": {},
     "output_type": "execute_result"
    }
   ],
   "source": [
    "data.head()"
   ]
  },
  {
   "cell_type": "code",
   "execution_count": 88,
   "metadata": {},
   "outputs": [],
   "source": [
    "#data[\"Species\"].value_counts()"
   ]
  },
  {
   "cell_type": "code",
   "execution_count": 89,
   "metadata": {},
   "outputs": [
    {
     "data": {
      "text/html": [
       "<div>\n",
       "<style scoped>\n",
       "    .dataframe tbody tr th:only-of-type {\n",
       "        vertical-align: middle;\n",
       "    }\n",
       "\n",
       "    .dataframe tbody tr th {\n",
       "        vertical-align: top;\n",
       "    }\n",
       "\n",
       "    .dataframe thead th {\n",
       "        text-align: right;\n",
       "    }\n",
       "</style>\n",
       "<table border=\"1\" class=\"dataframe\">\n",
       "  <thead>\n",
       "    <tr style=\"text-align: right;\">\n",
       "      <th></th>\n",
       "      <th>Price</th>\n",
       "      <th>Age_08_04</th>\n",
       "      <th>KM</th>\n",
       "      <th>Met_Color</th>\n",
       "      <th>Automatic</th>\n",
       "      <th>cc</th>\n",
       "      <th>Doors</th>\n",
       "      <th>Quarterly_Tax</th>\n",
       "      <th>Weight</th>\n",
       "    </tr>\n",
       "  </thead>\n",
       "  <tbody>\n",
       "    <tr>\n",
       "      <th>0</th>\n",
       "      <td>13500</td>\n",
       "      <td>23</td>\n",
       "      <td>46986</td>\n",
       "      <td>1</td>\n",
       "      <td>0</td>\n",
       "      <td>2000</td>\n",
       "      <td>3</td>\n",
       "      <td>210</td>\n",
       "      <td>1165</td>\n",
       "    </tr>\n",
       "    <tr>\n",
       "      <th>1</th>\n",
       "      <td>13750</td>\n",
       "      <td>23</td>\n",
       "      <td>72937</td>\n",
       "      <td>1</td>\n",
       "      <td>0</td>\n",
       "      <td>2000</td>\n",
       "      <td>3</td>\n",
       "      <td>210</td>\n",
       "      <td>1165</td>\n",
       "    </tr>\n",
       "    <tr>\n",
       "      <th>2</th>\n",
       "      <td>13950</td>\n",
       "      <td>24</td>\n",
       "      <td>41711</td>\n",
       "      <td>1</td>\n",
       "      <td>0</td>\n",
       "      <td>2000</td>\n",
       "      <td>3</td>\n",
       "      <td>210</td>\n",
       "      <td>1165</td>\n",
       "    </tr>\n",
       "    <tr>\n",
       "      <th>3</th>\n",
       "      <td>14950</td>\n",
       "      <td>26</td>\n",
       "      <td>48000</td>\n",
       "      <td>0</td>\n",
       "      <td>0</td>\n",
       "      <td>2000</td>\n",
       "      <td>3</td>\n",
       "      <td>210</td>\n",
       "      <td>1165</td>\n",
       "    </tr>\n",
       "    <tr>\n",
       "      <th>4</th>\n",
       "      <td>13750</td>\n",
       "      <td>30</td>\n",
       "      <td>38500</td>\n",
       "      <td>0</td>\n",
       "      <td>0</td>\n",
       "      <td>2000</td>\n",
       "      <td>3</td>\n",
       "      <td>210</td>\n",
       "      <td>1170</td>\n",
       "    </tr>\n",
       "  </tbody>\n",
       "</table>\n",
       "</div>"
      ],
      "text/plain": [
       "   Price  Age_08_04     KM  Met_Color  Automatic    cc  Doors  Quarterly_Tax  \\\n",
       "0  13500         23  46986          1          0  2000      3            210   \n",
       "1  13750         23  72937          1          0  2000      3            210   \n",
       "2  13950         24  41711          1          0  2000      3            210   \n",
       "3  14950         26  48000          0          0  2000      3            210   \n",
       "4  13750         30  38500          0          0  2000      3            210   \n",
       "\n",
       "   Weight  \n",
       "0    1165  \n",
       "1    1165  \n",
       "2    1165  \n",
       "3    1165  \n",
       "4    1170  "
      ]
     },
     "execution_count": 89,
     "metadata": {},
     "output_type": "execute_result"
    }
   ],
   "source": [
    "#cleanup_nums = {\"Species\": {\"Perch\": 1, \"Bream\": 2, \"Roach\": 3, \"Pike\": 4,\"Smelt\": 5, \"Parkki\": 6, \"Whitefish\":7 }}\n",
    "#data = data.replace(cleanup_nums)\n",
    "data.head()"
   ]
  },
  {
   "cell_type": "code",
   "execution_count": 90,
   "metadata": {},
   "outputs": [
    {
     "data": {
      "text/plain": [
       "((1148, 8), (288, 8))"
      ]
     },
     "execution_count": 90,
     "metadata": {},
     "output_type": "execute_result"
    }
   ],
   "source": [
    "X = data.drop(labels=['Price'], axis = 1)\n",
    "y = data['Price']\n",
    "\n",
    "X_train, X_test, y_train, y_test = train_test_split(X, y, test_size = 0.2, random_state =0)\n",
    "X_train.shape, X_test.shape  "
   ]
  },
  {
   "cell_type": "code",
   "execution_count": 91,
   "metadata": {},
   "outputs": [
    {
     "data": {
      "text/html": [
       "<div>\n",
       "<style scoped>\n",
       "    .dataframe tbody tr th:only-of-type {\n",
       "        vertical-align: middle;\n",
       "    }\n",
       "\n",
       "    .dataframe tbody tr th {\n",
       "        vertical-align: top;\n",
       "    }\n",
       "\n",
       "    .dataframe thead th {\n",
       "        text-align: right;\n",
       "    }\n",
       "</style>\n",
       "<table border=\"1\" class=\"dataframe\">\n",
       "  <thead>\n",
       "    <tr style=\"text-align: right;\">\n",
       "      <th></th>\n",
       "      <th>0</th>\n",
       "      <th>1</th>\n",
       "      <th>2</th>\n",
       "      <th>3</th>\n",
       "      <th>4</th>\n",
       "      <th>5</th>\n",
       "      <th>6</th>\n",
       "      <th>7</th>\n",
       "    </tr>\n",
       "  </thead>\n",
       "  <tbody>\n",
       "    <tr>\n",
       "      <th>0</th>\n",
       "      <td>0.585577</td>\n",
       "      <td>2.818689</td>\n",
       "      <td>-1.470556</td>\n",
       "      <td>-0.236892</td>\n",
       "      <td>2.313042</td>\n",
       "      <td>-0.054889</td>\n",
       "      <td>2.366658</td>\n",
       "      <td>0.510562</td>\n",
       "    </tr>\n",
       "    <tr>\n",
       "      <th>1</th>\n",
       "      <td>-0.272696</td>\n",
       "      <td>-0.411118</td>\n",
       "      <td>0.680015</td>\n",
       "      <td>-0.236892</td>\n",
       "      <td>0.186873</td>\n",
       "      <td>0.995316</td>\n",
       "      <td>-0.056830</td>\n",
       "      <td>0.138903</td>\n",
       "    </tr>\n",
       "    <tr>\n",
       "      <th>2</th>\n",
       "      <td>0.210082</td>\n",
       "      <td>-0.183190</td>\n",
       "      <td>0.680015</td>\n",
       "      <td>-0.236892</td>\n",
       "      <td>-1.407753</td>\n",
       "      <td>-1.105093</td>\n",
       "      <td>-0.444587</td>\n",
       "      <td>-1.068991</td>\n",
       "    </tr>\n",
       "    <tr>\n",
       "      <th>3</th>\n",
       "      <td>0.531935</td>\n",
       "      <td>-0.480329</td>\n",
       "      <td>-1.470556</td>\n",
       "      <td>-0.236892</td>\n",
       "      <td>-1.407753</td>\n",
       "      <td>-1.105093</td>\n",
       "      <td>-1.656331</td>\n",
       "      <td>7.572094</td>\n",
       "    </tr>\n",
       "    <tr>\n",
       "      <th>4</th>\n",
       "      <td>-0.916400</td>\n",
       "      <td>-0.780421</td>\n",
       "      <td>0.680015</td>\n",
       "      <td>-0.236892</td>\n",
       "      <td>-0.886842</td>\n",
       "      <td>-1.105093</td>\n",
       "      <td>-0.444587</td>\n",
       "      <td>-0.883161</td>\n",
       "    </tr>\n",
       "  </tbody>\n",
       "</table>\n",
       "</div>"
      ],
      "text/plain": [
       "          0         1         2         3         4         5         6  \\\n",
       "0  0.585577  2.818689 -1.470556 -0.236892  2.313042 -0.054889  2.366658   \n",
       "1 -0.272696 -0.411118  0.680015 -0.236892  0.186873  0.995316 -0.056830   \n",
       "2  0.210082 -0.183190  0.680015 -0.236892 -1.407753 -1.105093 -0.444587   \n",
       "3  0.531935 -0.480329 -1.470556 -0.236892 -1.407753 -1.105093 -1.656331   \n",
       "4 -0.916400 -0.780421  0.680015 -0.236892 -0.886842 -1.105093 -0.444587   \n",
       "\n",
       "          7  \n",
       "0  0.510562  \n",
       "1  0.138903  \n",
       "2 -1.068991  \n",
       "3  7.572094  \n",
       "4 -0.883161  "
      ]
     },
     "execution_count": 91,
     "metadata": {},
     "output_type": "execute_result"
    }
   ],
   "source": [
    "\n",
    "X_train=preprocessing.scale(X_train)\n",
    "X_train=pd.DataFrame(X_train)\n",
    "X_train.head()\n"
   ]
  },
  {
   "cell_type": "code",
   "execution_count": 105,
   "metadata": {},
   "outputs": [],
   "source": [
    "X_train=np.array(X_train)\n",
    "X_train.shape\n",
    "Z = np.ones((len(X_train[:, 0]), len(X_train[0]) + 1))\n",
    "Z[:,:-1] = X_train\n",
    "X_train = Z\n",
    "\n",
    "y_train=np.array(y_train)\n"
   ]
  },
  {
   "cell_type": "code",
   "execution_count": 106,
   "metadata": {},
   "outputs": [
    {
     "data": {
      "text/plain": [
       "((1148, 9), (288, 8))"
      ]
     },
     "execution_count": 106,
     "metadata": {},
     "output_type": "execute_result"
    }
   ],
   "source": [
    "X_train.shape, X_test.shape "
   ]
  },
  {
   "cell_type": "code",
   "execution_count": 107,
   "metadata": {},
   "outputs": [],
   "source": [
    "def stepGradient(x_train, y_train,alpha,m):\n",
    "    m_slopes = np.zeros(len(m))\n",
    "    N = x_train.shape[0]\n",
    "    M = x_train.shape[1]\n",
    "    \n",
    "    #print(x_train[0])\n",
    "    for i in range(N):\n",
    "        for j in range(M):\n",
    "            m_slopes[j] += (-2/N)*(y_train[i] - (m*x_train[i]).sum())*x_train[i][j]\n",
    "    m = m - alpha*m_slopes\n",
    "    return m"
   ]
  },
  {
   "cell_type": "code",
   "execution_count": 108,
   "metadata": {},
   "outputs": [],
   "source": [
    "def gradientDescent(X, Y, learningRate, n):\n",
    "    m = np.zeros(len(X[0]))\n",
    "    cst = []\n",
    "    itr = []\n",
    "    for i in range(n):\n",
    "        m = stepGradient(X, Y, learningRate, m)\n",
    "        c = cost(X, Y, m)\n",
    "        cst.append(c)\n",
    "        itr.append(i + 1)\n",
    "        print(\"Cost \", i + 1, \":\", c)\n",
    "        \n",
    "    return m, cst, itr"
   ]
  },
  {
   "cell_type": "code",
   "execution_count": 109,
   "metadata": {},
   "outputs": [],
   "source": [
    "def cost(X, Y, m):\n",
    "    totalCost = 0\n",
    "    N = len(X[:, 0])\n",
    "    for i in range(N):\n",
    "        totalCost += (Y[i] - (m*X[i]).sum())**2\n",
    "        \n",
    "    return totalCost/N"
   ]
  },
  {
   "cell_type": "code",
   "execution_count": 110,
   "metadata": {},
   "outputs": [],
   "source": [
    "def predict(X, m):\n",
    "    N = len(X[:, 0])\n",
    "    print(N)\n",
    "    Y = np.zeros(N)\n",
    "    for i in range(N):\n",
    "        Y[i] = (X[i] * m).sum()\n",
    "        \n",
    "    return Y"
   ]
  },
  {
   "cell_type": "code",
   "execution_count": 98,
   "metadata": {},
   "outputs": [
    {
     "name": "stdout",
     "output_type": "stream",
     "text": [
      "Cost  1 : 55059173.82009301\n",
      "Cost  2 : 25221408.59822907\n",
      "Cost  3 : 12251397.678029956\n",
      "Cost  4 : 6527928.330357063\n",
      "Cost  5 : 3983428.9478541915\n",
      "Cost  6 : 2845700.354116263\n",
      "Cost  7 : 2333470.7067778907\n",
      "Cost  8 : 2100392.8740036967\n",
      "Cost  9 : 1992453.414462451\n",
      "Cost  10 : 1941000.9784894388\n",
      "Cost  11 : 1915345.6614343186\n",
      "Cost  12 : 1901705.8120602744\n",
      "Cost  13 : 1893845.0051372035\n",
      "Cost  14 : 1888903.753745735\n",
      "Cost  15 : 1885541.5605674027\n",
      "Cost  16 : 1883107.1720580705\n",
      "Cost  17 : 1881266.7992608696\n",
      "Cost  18 : 1879836.5771688987\n",
      "Cost  19 : 1878706.3049212703\n",
      "Cost  20 : 1877804.1369114304\n",
      "Cost  21 : 1877079.767638204\n",
      "Cost  22 : 1876496.0649297147\n",
      "Cost  23 : 1876024.638395687\n",
      "Cost  24 : 1875643.2998697418\n",
      "Cost  25 : 1875334.4785124229\n",
      "Cost  26 : 1875084.1509461366\n",
      "Cost  27 : 1874881.0727713706\n",
      "Cost  28 : 1874716.2019865734\n",
      "Cost  29 : 1874582.2540813896\n",
      "Cost  30 : 1874473.3527970035\n",
      "Cost  31 : 1874384.7531709545\n",
      "Cost  32 : 1874312.6205734583\n",
      "Cost  33 : 1874253.8537731313\n",
      "Cost  34 : 1874205.9429363315\n",
      "Cost  35 : 1874166.8554909695\n",
      "Cost  36 : 1874134.9442872864\n",
      "Cost  37 : 1874108.8736367878\n",
      "Cost  38 : 1874087.5597055892\n",
      "Cost  39 : 1874070.1224444495\n",
      "Cost  40 : 1874055.8467982097\n",
      "Cost  41 : 1874044.1513840654\n",
      "Cost  42 : 1874034.5631851985\n",
      "Cost  43 : 1874026.6970920113\n",
      "Cost  44 : 1874020.2393522246\n",
      "Cost  45 : 1874014.9341747195\n",
      "Cost  46 : 1874010.5728793673\n",
      "Cost  47 : 1874006.9851034265\n",
      "Cost  48 : 1874004.0316701815\n",
      "Cost  49 : 1874001.598801858\n",
      "Cost  50 : 1873999.5934204392\n",
      "Cost  51 : 1873997.9393292994\n",
      "Cost  52 : 1873996.5741086022\n",
      "Cost  53 : 1873995.4465892834\n",
      "Cost  54 : 1873994.514796479\n",
      "Cost  55 : 1873993.7442740372\n",
      "Cost  56 : 1873993.1067185411\n",
      "Cost  57 : 1873992.57886493\n",
      "Cost  58 : 1873992.1415768256\n",
      "Cost  59 : 1873991.7791033343\n",
      "Cost  60 : 1873991.478471553\n",
      "Cost  61 : 1873991.228989626\n",
      "Cost  62 : 1873991.0218399467\n",
      "Cost  63 : 1873990.8497459337\n",
      "Cost  64 : 1873990.7066989152\n",
      "Cost  65 : 1873990.5877340708\n",
      "Cost  66 : 1873990.4887465683\n",
      "Cost  67 : 1873990.4063405164\n",
      "Cost  68 : 1873990.337704846\n",
      "Cost  69 : 1873990.2805111902\n",
      "Cost  70 : 1873990.2328299093\n",
      "Cost  71 : 1873990.193060858\n",
      "Cost  72 : 1873990.159876398\n",
      "Cost  73 : 1873990.1321743652\n",
      "Cost  74 : 1873990.1090392887\n",
      "Cost  75 : 1873990.0897103618\n",
      "Cost  76 : 1873990.0735549843\n",
      "Cost  77 : 1873990.060046871\n",
      "Cost  78 : 1873990.048747999\n",
      "Cost  79 : 1873990.0392935958\n",
      "Cost  80 : 1873990.0313797563\n",
      "Cost  81 : 1873990.0247531775\n",
      "Cost  82 : 1873990.0192026237\n",
      "Cost  83 : 1873990.0145518642\n",
      "Cost  84 : 1873990.0106538136\n",
      "Cost  85 : 1873990.0073856567\n",
      "Cost  86 : 1873990.004644801\n",
      "Cost  87 : 1873990.0023455143\n",
      "Cost  88 : 1873990.000416129\n",
      "Cost  89 : 1873989.9987966993\n",
      "Cost  90 : 1873989.9974370846\n",
      "Cost  91 : 1873989.9962953143\n",
      "Cost  92 : 1873989.995336254\n",
      "Cost  93 : 1873989.9945304764\n",
      "Cost  94 : 1873989.9938533355\n",
      "Cost  95 : 1873989.9932841682\n",
      "Cost  96 : 1873989.9928056563\n",
      "Cost  97 : 1873989.9924032826\n",
      "Cost  98 : 1873989.9920648618\n",
      "Cost  99 : 1873989.991780183\n",
      "Cost  100 : 1873989.991540653\n",
      "Cost  101 : 1873989.9913390975\n",
      "Cost  102 : 1873989.9911694506\n",
      "Cost  103 : 1873989.9910266446\n",
      "Cost  104 : 1873989.9909064113\n",
      "Cost  105 : 1873989.9908051682\n",
      "Cost  106 : 1873989.9907199081\n",
      "Cost  107 : 1873989.99064809\n",
      "Cost  108 : 1873989.9905875896\n",
      "Cost  109 : 1873989.990536624\n",
      "Cost  110 : 1873989.9904936685\n",
      "Cost  111 : 1873989.9904574722\n",
      "Cost  112 : 1873989.990426967\n",
      "Cost  113 : 1873989.9904012473\n",
      "Cost  114 : 1873989.9903795747\n",
      "Cost  115 : 1873989.990361299\n",
      "Cost  116 : 1873989.9903458885\n",
      "Cost  117 : 1873989.9903328943\n",
      "Cost  118 : 1873989.990321934\n",
      "Cost  119 : 1873989.990312687\n",
      "Cost  120 : 1873989.990304894\n",
      "Cost  121 : 1873989.990298319\n",
      "Cost  122 : 1873989.9902927694\n",
      "Cost  123 : 1873989.990288087\n",
      "Cost  124 : 1873989.990284136\n",
      "Cost  125 : 1873989.9902808042\n",
      "Cost  126 : 1873989.9902779902\n",
      "Cost  127 : 1873989.9902756198\n",
      "Cost  128 : 1873989.9902736156\n",
      "Cost  129 : 1873989.9902719269\n",
      "Cost  130 : 1873989.990270497\n",
      "Cost  131 : 1873989.9902692938\n",
      "Cost  132 : 1873989.990268276\n",
      "Cost  133 : 1873989.9902674155\n",
      "Cost  134 : 1873989.9902666935\n",
      "Cost  135 : 1873989.9902660819\n",
      "Cost  136 : 1873989.9902655645\n",
      "Cost  137 : 1873989.990265129\n",
      "Cost  138 : 1873989.9902647596\n",
      "Cost  139 : 1873989.9902644497\n",
      "Cost  140 : 1873989.9902641852\n",
      "Cost  141 : 1873989.9902639643\n",
      "Cost  142 : 1873989.9902637764\n",
      "Cost  143 : 1873989.9902636195\n",
      "Cost  144 : 1873989.990263487\n",
      "Cost  145 : 1873989.990263371\n",
      "Cost  146 : 1873989.9902632744\n",
      "Cost  147 : 1873989.9902631955\n",
      "Cost  148 : 1873989.9902631273\n",
      "Cost  149 : 1873989.9902630674\n",
      "Cost  150 : 1873989.9902630209\n",
      "Cost  151 : 1873989.9902629799\n",
      "Cost  152 : 1873989.990262944\n",
      "Cost  153 : 1873989.9902629189\n",
      "Cost  154 : 1873989.990262892\n",
      "Cost  155 : 1873989.9902628688\n",
      "Cost  156 : 1873989.9902628555\n",
      "Cost  157 : 1873989.990262839\n",
      "Cost  158 : 1873989.9902628274\n",
      "Cost  159 : 1873989.9902628174\n",
      "Cost  160 : 1873989.9902628062\n",
      "Cost  161 : 1873989.990262796\n",
      "Cost  162 : 1873989.9902627945\n",
      "Cost  163 : 1873989.990262783\n",
      "Cost  164 : 1873989.9902627808\n",
      "Cost  165 : 1873989.9902627843\n",
      "Cost  166 : 1873989.9902627766\n",
      "Cost  167 : 1873989.9902627734\n",
      "Cost  168 : 1873989.9902627722\n",
      "Cost  169 : 1873989.9902627696\n",
      "Cost  170 : 1873989.9902627706\n",
      "Cost  171 : 1873989.990262766\n",
      "Cost  172 : 1873989.9902627654\n",
      "Cost  173 : 1873989.9902627647\n",
      "Cost  174 : 1873989.9902627626\n",
      "Cost  175 : 1873989.9902627617\n",
      "Cost  176 : 1873989.9902627596\n",
      "Cost  177 : 1873989.9902627622\n",
      "Cost  178 : 1873989.99026276\n",
      "Cost  179 : 1873989.9902627612\n",
      "Cost  180 : 1873989.99026276\n",
      "Cost  181 : 1873989.990262761\n",
      "Cost  182 : 1873989.99026276\n",
      "Cost  183 : 1873989.9902627585\n",
      "Cost  184 : 1873989.99026276\n",
      "Cost  185 : 1873989.99026276\n",
      "Cost  186 : 1873989.9902627585\n",
      "Cost  187 : 1873989.9902627575\n",
      "Cost  188 : 1873989.9902627612\n",
      "Cost  189 : 1873989.9902627575\n",
      "Cost  190 : 1873989.9902627585\n",
      "Cost  191 : 1873989.9902627585\n",
      "Cost  192 : 1873989.9902627585\n",
      "Cost  193 : 1873989.990262759\n",
      "Cost  194 : 1873989.9902627575\n",
      "Cost  195 : 1873989.990262758\n",
      "Cost  196 : 1873989.990262759\n",
      "Cost  197 : 1873989.9902627612\n",
      "Cost  198 : 1873989.9902627605\n",
      "Cost  199 : 1873989.9902627596\n",
      "Cost  200 : 1873989.990262759\n",
      "[-2250.21477997  -842.29658951    29.85621384    28.74960838\n",
      "  -136.20860698   -37.39937825   -14.75253548  1189.52738282\n",
      " 10726.22735192]\n"
     ]
    }
   ],
   "source": [
    "\n",
    "\n",
    "n = 200\n",
    "learningRate = 0.1666\n",
    "m, cst, itr = gradientDescent(X_scaled, y_train, learningRate, n)\n",
    "print(m)"
   ]
  },
  {
   "cell_type": "code",
   "execution_count": 111,
   "metadata": {},
   "outputs": [
    {
     "data": {
      "text/plain": [
       "((1148, 9), (288, 8))"
      ]
     },
     "execution_count": 111,
     "metadata": {},
     "output_type": "execute_result"
    }
   ],
   "source": [
    "X_scaled.shape, X_test.shape "
   ]
  },
  {
   "cell_type": "code",
   "execution_count": 112,
   "metadata": {},
   "outputs": [
    {
     "data": {
      "image/png": "[encoded data removed]",
      "text/plain": [
       "<Figure size 432x288 with 1 Axes>"
      ]
     },
     "metadata": {
      "needs_background": "light"
     },
     "output_type": "display_data"
    }
   ],
   "source": [
    "plt.plot(cst, itr)\n",
    "plt.show()"
   ]
  },
  {
   "cell_type": "code",
   "execution_count": 113,
   "metadata": {},
   "outputs": [
    {
     "name": "stdout",
     "output_type": "stream",
     "text": [
      "1148\n",
      "(1148,)\n",
      "(1148,)\n"
     ]
    },
    {
     "data": {
      "image/png": "[encoded data removed]",
      "text/plain": [
       "<Figure size 432x288 with 1 Axes>"
      ]
     },
     "metadata": {
      "needs_background": "light"
     },
     "output_type": "display_data"
    }
   ],
   "source": [
    "Y_pred = predict(X_scaled, m)\n",
    "print(Y_pred.shape)\n",
    "print(y_train.shape)\n",
    "plt.scatter(y_train, Y_pred)\n",
    "plt.show()"
   ]
  },
  {
   "cell_type": "code",
   "execution_count": 114,
   "metadata": {},
   "outputs": [
    {
     "data": {
      "text/plain": [
       "((1148, 9), (288, 8))"
      ]
     },
     "execution_count": 114,
     "metadata": {},
     "output_type": "execute_result"
    }
   ],
   "source": [
    "X_scaled.shape, X_test.shape "
   ]
  },
  {
   "cell_type": "code",
   "execution_count": 115,
   "metadata": {},
   "outputs": [
    {
     "data": {
      "text/html": [
       "<div>\n",
       "<style scoped>\n",
       "    .dataframe tbody tr th:only-of-type {\n",
       "        vertical-align: middle;\n",
       "    }\n",
       "\n",
       "    .dataframe tbody tr th {\n",
       "        vertical-align: top;\n",
       "    }\n",
       "\n",
       "    .dataframe thead th {\n",
       "        text-align: right;\n",
       "    }\n",
       "</style>\n",
       "<table border=\"1\" class=\"dataframe\">\n",
       "  <thead>\n",
       "    <tr style=\"text-align: right;\">\n",
       "      <th></th>\n",
       "      <th>0</th>\n",
       "      <th>1</th>\n",
       "      <th>2</th>\n",
       "      <th>3</th>\n",
       "      <th>4</th>\n",
       "      <th>5</th>\n",
       "      <th>6</th>\n",
       "      <th>7</th>\n",
       "    </tr>\n",
       "  </thead>\n",
       "  <tbody>\n",
       "    <tr>\n",
       "      <th>0</th>\n",
       "      <td>0.685060</td>\n",
       "      <td>1.291467</td>\n",
       "      <td>0.751809</td>\n",
       "      <td>-0.265767</td>\n",
       "      <td>-0.028501</td>\n",
       "      <td>-1.009588</td>\n",
       "      <td>-0.030518</td>\n",
       "      <td>-0.361422</td>\n",
       "    </tr>\n",
       "    <tr>\n",
       "      <th>1</th>\n",
       "      <td>-0.185049</td>\n",
       "      <td>0.866485</td>\n",
       "      <td>0.751809</td>\n",
       "      <td>-0.265767</td>\n",
       "      <td>-0.028501</td>\n",
       "      <td>-1.009588</td>\n",
       "      <td>-0.030518</td>\n",
       "      <td>-0.361422</td>\n",
       "    </tr>\n",
       "    <tr>\n",
       "      <th>2</th>\n",
       "      <td>-0.728868</td>\n",
       "      <td>-1.014007</td>\n",
       "      <td>-1.330124</td>\n",
       "      <td>-0.265767</td>\n",
       "      <td>-0.028501</td>\n",
       "      <td>-1.009588</td>\n",
       "      <td>-0.030518</td>\n",
       "      <td>-0.361422</td>\n",
       "    </tr>\n",
       "    <tr>\n",
       "      <th>3</th>\n",
       "      <td>1.228879</td>\n",
       "      <td>0.107170</td>\n",
       "      <td>-1.330124</td>\n",
       "      <td>-0.265767</td>\n",
       "      <td>-0.028501</td>\n",
       "      <td>-1.009588</td>\n",
       "      <td>-0.425535</td>\n",
       "      <td>-0.466499</td>\n",
       "    </tr>\n",
       "    <tr>\n",
       "      <th>4</th>\n",
       "      <td>0.032478</td>\n",
       "      <td>-0.120461</td>\n",
       "      <td>-1.330124</td>\n",
       "      <td>-0.265767</td>\n",
       "      <td>-0.028501</td>\n",
       "      <td>-1.009588</td>\n",
       "      <td>-0.425535</td>\n",
       "      <td>-0.466499</td>\n",
       "    </tr>\n",
       "  </tbody>\n",
       "</table>\n",
       "</div>"
      ],
      "text/plain": [
       "          0         1         2         3         4         5         6  \\\n",
       "0  0.685060  1.291467  0.751809 -0.265767 -0.028501 -1.009588 -0.030518   \n",
       "1 -0.185049  0.866485  0.751809 -0.265767 -0.028501 -1.009588 -0.030518   \n",
       "2 -0.728868 -1.014007 -1.330124 -0.265767 -0.028501 -1.009588 -0.030518   \n",
       "3  1.228879  0.107170 -1.330124 -0.265767 -0.028501 -1.009588 -0.425535   \n",
       "4  0.032478 -0.120461 -1.330124 -0.265767 -0.028501 -1.009588 -0.425535   \n",
       "\n",
       "          7  \n",
       "0 -0.361422  \n",
       "1 -0.361422  \n",
       "2 -0.361422  \n",
       "3 -0.466499  \n",
       "4 -0.466499  "
      ]
     },
     "execution_count": 115,
     "metadata": {},
     "output_type": "execute_result"
    }
   ],
   "source": [
    "X_test=preprocessing.scale(X_test)\n",
    "X_test=pd.DataFrame(X_test)\n",
    "X_test.head()\n",
    "\n",
    "\n"
   ]
  },
  {
   "cell_type": "code",
   "execution_count": 116,
   "metadata": {},
   "outputs": [
    {
     "data": {
      "text/plain": [
       "((1148, 9), (288, 8))"
      ]
     },
     "execution_count": 116,
     "metadata": {},
     "output_type": "execute_result"
    }
   ],
   "source": [
    "X_scaled.shape, X_test.shape "
   ]
  },
  {
   "cell_type": "code",
   "execution_count": 117,
   "metadata": {},
   "outputs": [],
   "source": [
    "X_test=np.array(X_test)\n",
    "X_test.shape\n",
    "Z = np.ones((len(X_test[:, 0]), len(X_test[0]) + 1))\n",
    "Z[:,:-1] = X_test\n",
    "X_scaled1 = Z\n",
    "\n"
   ]
  },
  {
   "cell_type": "code",
   "execution_count": 121,
   "metadata": {},
   "outputs": [
    {
     "data": {
      "text/plain": [
       "(1148, 9)"
      ]
     },
     "execution_count": 121,
     "metadata": {},
     "output_type": "execute_result"
    }
   ],
   "source": [
    "X_scaled.shape"
   ]
  },
  {
   "cell_type": "code",
   "execution_count": 122,
   "metadata": {},
   "outputs": [
    {
     "data": {
      "text/plain": [
       "(288, 9)"
      ]
     },
     "execution_count": 122,
     "metadata": {},
     "output_type": "execute_result"
    }
   ],
   "source": [
    "X_scaled1.shape"
   ]
  },
  {
   "cell_type": "code",
   "execution_count": 123,
   "metadata": {},
   "outputs": [],
   "source": [
    "y_test=np.array(y_test)"
   ]
  },
  {
   "cell_type": "code",
   "execution_count": 125,
   "metadata": {},
   "outputs": [
    {
     "name": "stdout",
     "output_type": "stream",
     "text": [
      "288\n"
     ]
    }
   ],
   "source": [
    "Y_pred_test = predict(X_scaled1, m)\n",
    "\n"
   ]
  },
  {
   "cell_type": "code",
   "execution_count": 127,
   "metadata": {},
   "outputs": [
    {
     "name": "stdout",
     "output_type": "stream",
     "text": [
      "[ 7723.87069782 10039.76504708 12785.24722695  7316.36842868\n",
      " 10200.25951767  9424.76303337  6818.18705012 16324.77822892\n",
      " 11024.05747894 10195.06066389  7487.54916368 10958.62318041\n",
      " 11572.44478298  9536.5454711   6925.83166557 16192.91836714\n",
      " 10888.80941834  7386.58292824 12630.22373475  8617.15811817\n",
      "  6357.15850907  5632.19089499 11499.37444973 11864.29289453\n",
      " 19282.94102005  7445.03364801 14036.65489825  6298.14883231\n",
      "  8864.94567699  7687.57265543 11773.53796753  7637.48813744\n",
      " 16818.83074701  6698.8321276  11978.5585643  12857.81651284\n",
      " 10881.70658219 12008.24395792  9683.90042148  8859.91161737\n",
      "  8670.08295193 10321.13591713  9024.14248484 17203.16691318\n",
      " 10744.44589072  6853.80643516  9394.93564469  7414.25293539\n",
      "  8408.94005739  8381.8628864  19529.80813859  7919.37460555\n",
      "  6731.44488323  6169.26887115 11381.20172251 18378.90834577\n",
      " 13454.42708706  9740.28506215 19679.27475492 10804.72227957\n",
      "  5789.15292237  7409.32261542 10794.40749118 11846.46208979\n",
      " 10512.78003456 13912.05844555  8249.82627832  6736.79741024\n",
      " 17652.98918218 10413.48622245  9535.09547214 10082.40531604\n",
      " 13092.35594697  8018.07577831 15500.44928537 12957.58481942\n",
      "  9902.87606825  6277.11778223  7807.55742027  7736.61305234\n",
      "  6482.21693654  9479.29211153  5323.8912993  11487.75747877\n",
      " 11754.87186161 10256.30453926 12519.61860766 12836.83990168\n",
      "  7545.38837632  9300.88935448  6496.925395   10589.37910772\n",
      " 16836.36479075 13114.10276949  7770.32043979 12048.08432943\n",
      " 16062.65187405  9614.28967966 13180.49038993  7034.85309499\n",
      "  7964.54889862 11499.34536993 11593.50262195  7874.40526811\n",
      "  8208.72553841 19053.49135545 18452.0293636   7969.57059206\n",
      " 14126.66348195  8678.01482576 13497.20558622  8863.07976955\n",
      " 10139.1107585   9494.04458682 12979.0300822   9047.83143031\n",
      "  9039.78438885 12449.57699108  9055.87586062  7732.23542528\n",
      " 17362.52270135  7068.59231126 13866.95269394  9731.02863508\n",
      "  7671.83561718 19006.43308763  6771.4887947   9921.85560799\n",
      "  8888.82076261 10103.33937426 17299.85599259  8789.14279761\n",
      " 11096.57405096  9670.47803817 19738.35862741 10321.94794827\n",
      " 12385.23519323 12684.00004157 10022.02073667 14676.74126594\n",
      " 15795.47400013 10042.74598615  8767.36094539  7802.47140677\n",
      "  8743.74043091 17462.38353019 10183.84214089 12435.3436599\n",
      " 11386.10542345 12289.94576406  7545.47904577 13658.39155613\n",
      " 11182.12830461  6679.90343515 10787.66421462 14776.59693762\n",
      "  9943.7691968   9329.57441046  7140.11446808  8328.58910559\n",
      "  7605.98600052  8896.37165602  8259.35938374 15354.61810671\n",
      " 10801.09217861  7395.42015824 17607.35680831  8686.65302904\n",
      "  8845.81032213 15590.17418359  9775.17804261 10498.91695641\n",
      "  9899.02475058  8429.09668375  7842.78339772 10300.55228449\n",
      "  8352.67019696 12827.23240988 17027.36003099  9766.42664059\n",
      " 11345.90720969  8898.27812902  7633.64332665 15825.76768114\n",
      " 12475.87522916  9044.73263241  9188.07092836 17417.23458974\n",
      " 16829.82161479  6434.65628662  9751.220453    8084.59548431\n",
      " 11564.87104757 12213.80333854 10123.79572735  7492.06171088\n",
      " 18100.05216793  7206.52709606  7661.13781824  5091.03669503\n",
      "  9284.16803965 12171.07013614 13874.03685937 15517.48527472\n",
      " 10993.65864808  9555.21325384 12408.9957079  10379.97360572\n",
      "  8530.42507801  5852.8627579  13286.09848132  8057.18746619\n",
      "  8384.35162277  6803.05114281  6530.56830464 16362.40675867\n",
      " 17181.98230044 10592.63318084  7833.84929093 12044.12834511\n",
      "  7110.59285759  7235.63856029 10592.48622219  8065.88611882\n",
      " 13433.43918713 11573.15890154  9725.57664698 17495.76404108\n",
      " 10405.80195359 10465.44510262  8045.98707025 10232.24962665\n",
      " 10206.44022134 15333.44594572  6819.93836566  9611.43708147\n",
      "  7210.52510171  6926.36667715  8916.54174091 13587.01708071\n",
      " 12107.45722191 10343.63948075  6144.21371358  9035.49955775\n",
      " 16043.10764941  7363.44837962 11484.72173941 13114.0251605\n",
      " 10084.32783734  8856.27698687  8193.68844882  8176.03274447\n",
      " 13316.31767268 10077.02864315 17611.71137553  8831.75756338\n",
      "  9217.19350552 16245.57433249  8273.37175999  8892.45197937\n",
      " 20927.6435982   9928.6871368  16215.84756663  8757.95027949\n",
      " 15947.57428695  9823.63694522 16630.8379153   9339.36278881\n",
      "  7318.27493293 10179.84848941 11964.12742018  9673.48100202\n",
      " 11104.5934411  11755.15285435  9104.50487459 17617.80720419\n",
      " 18059.7023767   6227.34775352  8203.39705538 13057.05167567\n",
      "  8102.56849355  7810.50167455  5640.92066414 11288.04762204\n",
      " 10203.41993813  9926.03602416 12657.26170688  8032.45013886]\n"
     ]
    }
   ],
   "source": [
    "print(Y_pred_test)"
   ]
  },
  {
   "cell_type": "code",
   "execution_count": 129,
   "metadata": {},
   "outputs": [
    {
     "name": "stdout",
     "output_type": "stream",
     "text": [
      "[ 7950 10950 14950  7500  9900  8900  6950 15750 11950  9930  8500 10450\n",
      " 11895  9950  6450 15500 11950  6900 10950  9750  7350  8950 13750 14950\n",
      " 19950  9450 11500  8500  9450  8800 11450 10500 13750  8250 10950 11950\n",
      "  8950 12900  9500  9950  8950  9500  9950 15500 10950  7500  9450  9500\n",
      " 10845  8500 19750  8950  7250  6750 10950 19950 11000  8950 17795 10500\n",
      "  5740  7750 10950 10500 12500 12900  8450  7950 19450 11450  9500  4450\n",
      " 11690  7900 14750 14990  9950  7450  6950  8250  6750  6900  5950 12750\n",
      " 11950 10750  8950 11950  8250  7450  6950 10750 17450  9940  7950 12250\n",
      " 12950 10950 12450  6900  8500 10750  9700  9250  7900 19000 18450  8500\n",
      " 13250 10400 12500  9200  8500  8250 13750  8950  7950 10950  9900  7750\n",
      " 20500  9950 13995 10250  7950 23950  7950 11500  9250  9950 17950  8950\n",
      "  9980 10500 21125 11950 11950 12450  7995 13500 15750  8850  8750  7750\n",
      "  9895 20750 11950 13950 10950 11950  7950 12950  9950  8950 11450 16950\n",
      "  9900  8950  8450  8750  7400  8500  7800 16750  9950  6450 21950  8750\n",
      "  8200 15800 10450 10900  9950  7500  8250  9950  8250 11900 16450  9995\n",
      " 10950  8950  9250 14750 11450  8750  8950 13950 13750  5950  9950  8500\n",
      "  4750 10950 10950  8950 18950  8950  7950  6500  9900 10750 13950 15250\n",
      " 11500  8750 10450 11950  8950  6950 10950  6950  9250  7950  7250 17950\n",
      " 22500 10500  7600 10950  6900  6500  9950  9800 12950  9950  9450 16950\n",
      "  9950 10950  7750 10950  8750 12950  8050  8950  7450  7950  8250 14950\n",
      "  8695  9950  5950  7950 18950  7200 12950  6950 11950  8950  8750  7750\n",
      " 12950  9450  7500 10000  9900 16500  8950 10750 19950  9950 14750  6900\n",
      " 13950  8950 16950  9800  7950  9450 12900  8950 10750 13950  6950 19500\n",
      " 21500  7450  9950 11500  6900  8450  5250 10450  9400  9950 11750  7950]\n"
     ]
    }
   ],
   "source": [
    "print(y_test)"
   ]
  },
  {
   "cell_type": "code",
   "execution_count": null,
   "metadata": {},
   "outputs": [],
   "source": []
  }
 ],
 "metadata": {
  "kernelspec": {
   "display_name": "Python 3",
   "language": "python",
   "name": "python3"
  },
  "language_info": {
   "codemirror_mode": {
    "name": "ipython",
    "version": 3
   },
   "file_extension": ".py",
   "mimetype": "text/x-python",
   "name": "python",
   "nbconvert_exporter": "python",
   "pygments_lexer": "ipython3",
   "version": "3.8.5"
  }
 },
 "nbformat": 4,
 "nbformat_minor": 4
}
